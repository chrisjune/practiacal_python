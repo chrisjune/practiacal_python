{
 "cells": [
  {
   "cell_type": "code",
   "execution_count": 5,
   "metadata": {},
   "outputs": [
    {
     "name": "stdout",
     "output_type": "stream",
     "text": [
      "Requirement already up-to-date: pip in /Users/cjy/.pyenv/versions/3.6.8/lib/python3.6/site-packages (20.2.4)\n",
      "Note: you may need to restart the kernel to use updated packages.\n",
      "Collecting cryptography\n",
      "  Downloading cryptography-3.2.1-cp35-abi3-macosx_10_10_x86_64.whl (1.8 MB)\n",
      "\u001b[K     |████████████████████████████████| 1.8 MB 1.1 MB/s eta 0:00:01\n",
      "\u001b[?25hRequirement already satisfied: cffi!=1.11.3,>=1.8 in /Users/cjy/.pyenv/versions/3.6.8/lib/python3.6/site-packages (from cryptography) (1.14.4)\n",
      "Requirement already satisfied: six>=1.4.1 in /Users/cjy/.pyenv/versions/3.6.8/lib/python3.6/site-packages (from cryptography) (1.15.0)\n",
      "Requirement already satisfied: pycparser in /Users/cjy/.pyenv/versions/3.6.8/lib/python3.6/site-packages (from cffi!=1.11.3,>=1.8->cryptography) (2.20)\n",
      "Installing collected packages: cryptography\n",
      "Successfully installed cryptography-3.2.1\n",
      "Note: you may need to restart the kernel to use updated packages.\n"
     ]
    }
   ],
   "source": [
    "%pip install --upgrade pip\n",
    "%pip install cryptography\n"
   ]
  },
  {
   "cell_type": "code",
   "execution_count": 2,
   "metadata": {},
   "outputs": [],
   "source": [
    "# Double Strength Encryption\n",
    "# 1 layer\n",
    "# 대칭키로 Plain text를 암호화히고, 비대칭키로 대칭키를 암호화한다\n",
    "# 2 layer\n",
    "# 암호화 텍스트에 대칭키로 한번 더 암호화한다.\n",
    "# 3 layer\n",
    "# SSL/TLS 연결통신으로 전송을 주고 받는다\n",
    "# 정리: 평문 -> 암호화 -> 암호화 -> TLS, 키는 비대칭키로 암호화."
   ]
  },
  {
   "cell_type": "code",
   "execution_count": 27,
   "metadata": {},
   "outputs": [
    {
     "name": "stdout",
     "output_type": "stream",
     "text": [
      ".egassem terces pot si sihT\n"
     ]
    }
   ],
   "source": [
    "#Revers Cipher\n",
    "# 순서 뒤집기\n",
    "message = \"This is top secret message.\"\n",
    "print(message[::-1])"
   ]
  },
  {
   "cell_type": "code",
   "execution_count": 28,
   "metadata": {},
   "outputs": [
    {
     "name": "stdout",
     "output_type": "stream",
     "text": [
      "A Ȉ A\n"
     ]
    }
   ],
   "source": [
    "#Caesar Cipher\n",
    "# 평문의 문자를 좌우로 Shift 하는 것. 아래에선 bit shift함.\n",
    "plain = \"A\"\n",
    "cipher = chr(ord(plain)<<3)\n",
    "decrypted = chr(ord(cipher) >> 3)\n",
    "print(plain, cipher, decrypted)"
   ]
  },
  {
   "cell_type": "code",
   "execution_count": 36,
   "metadata": {},
   "outputs": [
    {
     "name": "stdout",
     "output_type": "stream",
     "text": [
      "THIS IS TOP SECRET aUV`-V`-a\\]-`RP_Ra THIS IS TOP SECRET\n"
     ]
    }
   ],
   "source": [
    "#ROT13 Cipher\n",
    "# 13번째 뒤로 Shift한 Caesar cipher의 한 종류\n",
    "plain = \"THIS IS TOP SECRET\"\n",
    "cipher = ''.join([chr(ord(i)+13) for i in plain])\n",
    "decrypt = ''.join([chr(ord(i)-13) for i in cipher])\n",
    "print(plain, cipher, decrypt)"
   ]
  },
  {
   "cell_type": "code",
   "execution_count": 60,
   "metadata": {},
   "outputs": [
    {
     "name": "stdout",
     "output_type": "stream",
     "text": [
      "THIS IS SECRET b'VEhJUyBJUyBTRUNSRVQ=' THIS IS SECRET\n"
     ]
    }
   ],
   "source": [
    "import base64\n",
    "plain = 'THIS IS SECRET'\n",
    "cipher = base64.b64encode(plain.encode('utf-8'))\n",
    "decrypt = base64.b64decode(cipher)\n",
    "print(plain, cipher, decrypt.decode('utf-8'))"
   ]
  },
  {
   "cell_type": "code",
   "execution_count": 54,
   "metadata": {},
   "outputs": [
    {
     "name": "stdout",
     "output_type": "stream",
     "text": [
      "Base64 Encoded: SGVsbG8gV29ybGQh\n",
      "Hello World!\n"
     ]
    }
   ],
   "source": []
  }
 ],
 "metadata": {
  "kernelspec": {
   "display_name": "Python 3",
   "language": "python",
   "name": "python3"
  },
  "language_info": {
   "codemirror_mode": {
    "name": "ipython",
    "version": 3
   },
   "file_extension": ".py",
   "mimetype": "text/x-python",
   "name": "python",
   "nbconvert_exporter": "python",
   "pygments_lexer": "ipython3",
   "version": "3.6.8"
  }
 },
 "nbformat": 4,
 "nbformat_minor": 4
}
